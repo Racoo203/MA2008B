{
 "cells": [
  {
   "cell_type": "code",
   "execution_count": 78,
   "id": "40380c1d",
   "metadata": {},
   "outputs": [],
   "source": [
    "import pandas as pd\n",
    "import json\n",
    "import numpy as np\n",
    "from itertools import permutations\n",
    "from scipy.spatial.distance import cdist\n",
    "import pandas as pd\n",
    "import numpy as np\n",
    "from itertools import permutations\n",
    "from math import sqrt\n",
    "import random"
   ]
  },
  {
   "cell_type": "code",
   "execution_count": 79,
   "id": "b13e0f20",
   "metadata": {},
   "outputs": [],
   "source": [
    "# Parámetros globales\n",
    "MAX_SHIFT_TIME = 6.0  # hours\n",
    "UNLOAD_TIME = 0.5     # hours per polygon\n",
    "LOAD_TIME = 0.5       # hours at HQ\n",
    "TRUCK_CAPACITY = 100  # max number of plants (can be modified)\n",
    "HQ_POLYGON = 18       # headquarters polygon\n",
    "\n",
    "with open('../scheduling/MC_Supply_Chain_Solution.json', 'r') as f:\n",
    "    data = json.load(f)\n",
    "    demand_df = pd.DataFrame(data['best_solution'], columns=['day', 'polygon', 'specie', 'supplier', 'amount'])\n",
    "\n",
    "polygon_df = pd.read_csv('../setup/ha.csv')"
   ]
  },
  {
   "cell_type": "code",
   "execution_count": 80,
   "id": "6ed855cc",
   "metadata": {},
   "outputs": [],
   "source": [
    "# Helper Functions\n",
    "def euclidean_distance(p1, p2):\n",
    "    return sqrt((p1[0] - p2[0])**2 + (p1[1] - p2[1])**2)\n",
    "\n",
    "def compute_distance_matrix(polygon_coords):\n",
    "    polygons = polygon_coords['Poligono'].tolist()\n",
    "    coords = polygon_coords.set_index('Poligono')[['X', 'Y']].to_dict('index')\n",
    "    dist_matrix = {}\n",
    "    for i in polygons:\n",
    "        dist_matrix[i] = {}\n",
    "        for j in polygons:\n",
    "            dist_matrix[i][j] = euclidean_distance(list(coords[i].values()), list(coords[j].values()))\n",
    "    return dist_matrix"
   ]
  },
  {
   "cell_type": "code",
   "execution_count": 81,
   "id": "6d751af6",
   "metadata": {},
   "outputs": [],
   "source": [
    "# Ant Colony Optimization Classes\n",
    "class Ant:\n",
    "    def __init__(self, demand, distance_matrix, truck_capacity):\n",
    "        self.demand = demand.copy()\n",
    "        self.distance_matrix = distance_matrix\n",
    "        self.truck_capacity = truck_capacity\n",
    "        self.route = []\n",
    "        self.time = 0.0\n",
    "        self.distance = 0.0\n",
    "        self.load = 0\n",
    "        self.current_polygon = HQ_POLYGON\n",
    "\n",
    "    def visit_polygon(self, polygon, demand_amount):\n",
    "        travel_time = self.distance_matrix[self.current_polygon][polygon] / 30.0  # Assume truck speed = 30 units/hour\n",
    "        self.time += travel_time + UNLOAD_TIME\n",
    "        self.distance += self.distance_matrix[self.current_polygon][polygon]\n",
    "        self.current_polygon = polygon\n",
    "        self.route.append(polygon)\n",
    "        self.load -= demand_amount\n",
    "\n",
    "    def reload_at_hq(self):\n",
    "        travel_time = self.distance_matrix[self.current_polygon][HQ_POLYGON] / 30.0\n",
    "        self.time += travel_time + LOAD_TIME\n",
    "        self.distance += self.distance_matrix[self.current_polygon][HQ_POLYGON]\n",
    "        self.current_polygon = HQ_POLYGON\n",
    "        self.load = self.truck_capacity\n",
    "        self.route.append(HQ_POLYGON)\n",
    "\n",
    "    def construct_solution(self, day_demand):\n",
    "        self.load = self.truck_capacity\n",
    "        remaining_demand = day_demand.copy()\n",
    "        visited = set()\n",
    "        while not remaining_demand.empty:\n",
    "            candidates = remaining_demand.groupby('polygon')['amount'].sum().sort_values().index.tolist()\n",
    "            moved = False\n",
    "            for polygon in candidates:\n",
    "                total_amount = remaining_demand[remaining_demand['polygon'] == polygon]['amount'].sum()\n",
    "                if total_amount <= self.load:\n",
    "                    self.visit_polygon(polygon, total_amount)\n",
    "                    remaining_demand = remaining_demand[remaining_demand['polygon'] != polygon]\n",
    "                    moved = True\n",
    "                    break\n",
    "            if not moved:\n",
    "                self.reload_at_hq()\n",
    "            if self.time >= MAX_SHIFT_TIME:\n",
    "                break\n",
    "\n",
    "class ACO:\n",
    "    def __init__(self, n_ants, n_iterations, alpha, beta, evaporation_rate, distance_matrix, demand):\n",
    "        self.n_ants = n_ants\n",
    "        self.n_iterations = n_iterations\n",
    "        self.alpha = alpha\n",
    "        self.beta = beta\n",
    "        self.evaporation_rate = evaporation_rate\n",
    "        self.distance_matrix = distance_matrix\n",
    "        self.pheromone = {i: {j: 1.0 for j in distance_matrix[i]} for i in distance_matrix}\n",
    "        self.demand = demand\n",
    "\n",
    "    def run(self, day_demand):\n",
    "        best_distance = float('inf')\n",
    "        best_route = None\n",
    "        for _ in range(self.n_iterations):\n",
    "            ants = [Ant(self.demand, self.distance_matrix, TRUCK_CAPACITY) for _ in range(self.n_ants)]\n",
    "            for ant in ants:\n",
    "                ant.construct_solution(day_demand)\n",
    "                if ant.distance < best_distance and ant.time <= MAX_SHIFT_TIME:\n",
    "                    best_distance = ant.distance\n",
    "                    best_route = ant.route\n",
    "            self.evaporate_pheromone()\n",
    "        return best_route, best_distance\n",
    "\n",
    "    def evaporate_pheromone(self):\n",
    "        for i in self.pheromone:\n",
    "            for j in self.pheromone[i]:\n",
    "                self.pheromone[i][j] *= (1 - self.evaporation_rate)"
   ]
  },
  {
   "cell_type": "code",
   "execution_count": 82,
   "id": "985620f2",
   "metadata": {},
   "outputs": [
    {
     "name": "stdout",
     "output_type": "stream",
     "text": [
      "Best Route: None\n",
      "Best Distance: inf\n"
     ]
    }
   ],
   "source": [
    "day = 1\n",
    "daily_demand = demand_df[demand_df[\"day\"] == day]\n",
    "distance_matrix = compute_distance_matrix(polygon_df)\n",
    "\n",
    "aco = ACO(n_ants=10, n_iterations=50, alpha=1, beta=2, evaporation_rate=0.1,\n",
    "          distance_matrix=distance_matrix, demand=daily_demand)\n",
    "best_route, best_distance = aco.run(daily_demand)\n",
    "\n",
    "print(\"Best Route:\", best_route)\n",
    "print(\"Best Distance:\", best_distance)"
   ]
  }
 ],
 "metadata": {
  "kernelspec": {
   "display_name": "DS",
   "language": "python",
   "name": "python3"
  },
  "language_info": {
   "codemirror_mode": {
    "name": "ipython",
    "version": 3
   },
   "file_extension": ".py",
   "mimetype": "text/x-python",
   "name": "python",
   "nbconvert_exporter": "python",
   "pygments_lexer": "ipython3",
   "version": "3.12.8"
  }
 },
 "nbformat": 4,
 "nbformat_minor": 5
}
