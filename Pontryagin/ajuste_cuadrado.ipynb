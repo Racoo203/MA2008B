{
 "cells": [
  {
   "cell_type": "code",
   "execution_count": null,
   "id": "d898a2e6",
   "metadata": {},
   "outputs": [],
   "source": [
    "from decimal import Decimal, getcontext\n",
    "\n",
    "getcontext().prec = 28  # set precision if needed"
   ]
  },
  {
   "cell_type": "code",
   "execution_count": null,
   "id": "5ae6c833",
   "metadata": {},
   "outputs": [],
   "source": [
    "def opt(x):\n",
    "    x = Decimal(x)\n",
    "    return x**2 + Decimal(1)/x\n",
    "\n",
    "def min_x(x_1, x_2, x_3):\n",
    "    x_1, x_2, x_3 = Decimal(x_1), Decimal(x_2), Decimal(x_3)\n",
    "    f_1 = opt(x_1)\n",
    "    f_2 = opt(x_2)\n",
    "    f_3 = opt(x_3)\n",
    "\n",
    "    alpha = x_2 - x_1\n",
    "    beta = x_2 - x_3\n",
    "    alpha_f = f_2 - f_3\n",
    "    beta_f = f_2 - f_1\n",
    "\n",
    "    print(f\"x_1: {x_1}, x_2: {x_2}, x_3: {x_3}\")\n",
    "    print(f\"alpha: {alpha}, beta: {beta}\")\n",
    "    print(f\"opt(x_2): {f_2}, opt(x_3): {f_3}, opt(x_1): {f_1}\")\n",
    "    print(f\"alpha_f: {alpha_f}, beta_f: {beta_f}\")\n",
    "\n",
    "    numerator = (alpha ** 2) * beta_f - (beta ** 2) * alpha_f\n",
    "    denominator = 2 * (alpha * alpha_f - beta * beta_f)\n",
    "    print(f\"numerator: {numerator}, denominator: {denominator}\")\n",
    "\n",
    "    new_min = x_2 - numerator / denominator\n",
    "\n",
    "    print(f\"new_min: {new_min}\")\n",
    "\n",
    "    return new_min\n",
    "\n",
    "def logic():\n",
    "    \n"
   ]
  },
  {
   "cell_type": "code",
   "execution_count": 8,
   "id": "9ef5eabd",
   "metadata": {},
   "outputs": [
    {
     "name": "stdout",
     "output_type": "stream",
     "text": [
      "x_1: 0.5, x_2: 1, x_3: 2\n",
      "alpha: 0.5, beta: -1\n",
      "opt(x_2): 2, opt(x_3): 4.5, opt(x_1): 2.25\n",
      "alpha_f: -2.5, beta_f: -0.25\n",
      "numerator: 2.4375, denominator: -3.00\n",
      "new_min: 1.8125\n"
     ]
    },
    {
     "data": {
      "text/plain": [
       "Decimal('1.8125')"
      ]
     },
     "execution_count": 8,
     "metadata": {},
     "output_type": "execute_result"
    }
   ],
   "source": [
    "min_x(0.5, 1, 2)"
   ]
  },
  {
   "cell_type": "code",
   "execution_count": null,
   "id": "26876573",
   "metadata": {},
   "outputs": [],
   "source": []
  }
 ],
 "metadata": {
  "kernelspec": {
   "display_name": "optimization",
   "language": "python",
   "name": "python3"
  },
  "language_info": {
   "codemirror_mode": {
    "name": "ipython",
    "version": 3
   },
   "file_extension": ".py",
   "mimetype": "text/x-python",
   "name": "python",
   "nbconvert_exporter": "python",
   "pygments_lexer": "ipython3",
   "version": "3.13.2"
  }
 },
 "nbformat": 4,
 "nbformat_minor": 5
}
