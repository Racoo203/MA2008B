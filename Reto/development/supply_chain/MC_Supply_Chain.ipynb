{
 "cells": [
  {
   "cell_type": "code",
   "execution_count": 8,
   "id": "66f96f18",
   "metadata": {},
   "outputs": [],
   "source": [
    "import pandas as pd\n",
    "import numpy as np\n",
    "import random\n",
    "from tqdm import tqdm\n",
    "import logging\n",
    "from joblib import Parallel, delayed\n",
    "import multiprocessing\n",
    "import json\n",
    "from datetime import datetime\n",
    "import os"
   ]
  },
  {
   "cell_type": "code",
   "execution_count": 9,
   "id": "0cafbb76",
   "metadata": {},
   "outputs": [],
   "source": [
    "class MonteCarloSupplyChainOptimizer:\n",
    "    def __init__(self, demand_df, prices_df, max_load=8000, transport_cost=4500, iterations=1000, n_jobs=-1):\n",
    "        self.original_demand_df = demand_df.copy()\n",
    "        self.prices_df = prices_df.copy()\n",
    "        self.max_load = max_load\n",
    "        self.transport_cost = transport_cost\n",
    "        self.iterations = iterations\n",
    "        self.n_jobs = n_jobs if n_jobs != -1 else multiprocessing.cpu_count()\n",
    "\n",
    "        self.demands = self.original_demand_df.groupby(['polygon', 'specie'])['demand'].sum().reset_index()\n",
    "        self.species = self.demands['specie'].unique()\n",
    "        self.suppliers = self.prices_df['supplier'].unique()\n",
    "\n",
    "        self.log_file = 'MC_Supply_Chain.log'\n",
    "        if os.path.exists(self.log_file):\n",
    "            logging.shutdown()\n",
    "            os.remove(self.log_file)\n",
    "\n",
    "    def generate_random_solution(self):\n",
    "        remaining = self.demands.sample(frac=1).copy()\n",
    "        schedule = []\n",
    "        day = 0\n",
    "\n",
    "        while remaining['demand'].sum() > 0:\n",
    "            day += 1\n",
    "            remaining_capacity = self.max_load\n",
    "            day_plan = []\n",
    "            fulfilled_indices = []\n",
    "\n",
    "            for idx, row in remaining[remaining['demand'] > 0].iterrows():\n",
    "                polygon, specie, demand = row['polygon'], row['specie'], row['demand']\n",
    "                if demand > remaining_capacity:\n",
    "                    continue\n",
    "\n",
    "                suppliers = self.prices_df[self.prices_df['specie'] == specie]['supplier'].tolist()\n",
    "                if not suppliers:\n",
    "                    continue\n",
    "\n",
    "                supplier = random.choice(suppliers)\n",
    "\n",
    "                day_plan.append((day, polygon, specie, supplier, demand))\n",
    "                remaining_capacity -= demand\n",
    "                fulfilled_indices.append(idx)\n",
    "\n",
    "            schedule.extend(day_plan)\n",
    "            remaining.loc[fulfilled_indices, 'demand'] = 0\n",
    "\n",
    "        return schedule\n",
    "\n",
    "    def fitness(self, schedule):\n",
    "        cost = 0\n",
    "\n",
    "        horizon_days = max(day_plan[0] for day_plan in schedule)\n",
    "        for day in range(1, horizon_days + 1):\n",
    "            day_orders = [entry for entry in schedule if entry[0] == day]\n",
    "            day_suppliers = set()\n",
    "            day_load = 0\n",
    "\n",
    "            for (_, polygon, specie, supplier, amount) in day_orders:\n",
    "                row = self.prices_df[(self.prices_df['specie'] == specie) & (self.prices_df['supplier'] == supplier)]\n",
    "\n",
    "                unit_price = row.iloc[0]['price']\n",
    "                cost += unit_price * amount\n",
    "                day_load += amount\n",
    "                day_suppliers.add(supplier)\n",
    "\n",
    "            cost += self.transport_cost * len(day_suppliers)\n",
    "\n",
    "        return cost\n",
    "\n",
    "    def evaluate_one_solution(self, i):\n",
    "        candidate = self.generate_random_solution()\n",
    "        candidate_cost = self.fitness(candidate)\n",
    "        return candidate, candidate_cost\n",
    "\n",
    "    def run(self):\n",
    "        logging.info(\"Starting parallel Monte Carlo optimization...\")\n",
    "\n",
    "        results = Parallel(n_jobs=self.n_jobs)(\n",
    "            delayed(self.evaluate_one_solution)(i) for i in tqdm(range(self.iterations), desc='Finding solutions...')\n",
    "        )\n",
    "\n",
    "        best_solution, best_cost = min(results, key=lambda x: x[1])\n",
    "        logging.info(f\"Best solution found with cost: {best_cost:.2f}\")\n",
    "        \n",
    "        return best_solution, best_cost"
   ]
  },
  {
   "cell_type": "code",
   "execution_count": 10,
   "id": "c7022d91",
   "metadata": {},
   "outputs": [],
   "source": [
    "demand_df = pd.read_csv('../setup/demand.csv').sample(frac=1)\n",
    "prices_df = pd.read_csv('../setup/supplier_prices.csv')"
   ]
  },
  {
   "cell_type": "code",
   "execution_count": 11,
   "id": "e289f36c",
   "metadata": {},
   "outputs": [
    {
     "data": {
      "text/html": [
       "<div>\n",
       "<style scoped>\n",
       "    .dataframe tbody tr th:only-of-type {\n",
       "        vertical-align: middle;\n",
       "    }\n",
       "\n",
       "    .dataframe tbody tr th {\n",
       "        vertical-align: top;\n",
       "    }\n",
       "\n",
       "    .dataframe thead th {\n",
       "        text-align: right;\n",
       "    }\n",
       "</style>\n",
       "<table border=\"1\" class=\"dataframe\">\n",
       "  <thead>\n",
       "    <tr style=\"text-align: right;\">\n",
       "      <th></th>\n",
       "      <th>specie</th>\n",
       "      <th>polygon</th>\n",
       "      <th>demand</th>\n",
       "    </tr>\n",
       "  </thead>\n",
       "  <tbody>\n",
       "    <tr>\n",
       "      <th>4</th>\n",
       "      <td>Opuntia cantabrigiensis</td>\n",
       "      <td>1</td>\n",
       "      <td>210</td>\n",
       "    </tr>\n",
       "    <tr>\n",
       "      <th>113</th>\n",
       "      <td>Agave striata</td>\n",
       "      <td>25</td>\n",
       "      <td>166</td>\n",
       "    </tr>\n",
       "    <tr>\n",
       "      <th>102</th>\n",
       "      <td>Agave scabra</td>\n",
       "      <td>24</td>\n",
       "      <td>186</td>\n",
       "    </tr>\n",
       "    <tr>\n",
       "      <th>40</th>\n",
       "      <td>Agave lechuguilla</td>\n",
       "      <td>16</td>\n",
       "      <td>186</td>\n",
       "    </tr>\n",
       "    <tr>\n",
       "      <th>64</th>\n",
       "      <td>Opuntia cantabrigiensis</td>\n",
       "      <td>18</td>\n",
       "      <td>277</td>\n",
       "    </tr>\n",
       "    <tr>\n",
       "      <th>...</th>\n",
       "      <td>...</td>\n",
       "      <td>...</td>\n",
       "      <td>...</td>\n",
       "    </tr>\n",
       "    <tr>\n",
       "      <th>54</th>\n",
       "      <td>Opuntia cantabrigiensis</td>\n",
       "      <td>17</td>\n",
       "      <td>238</td>\n",
       "    </tr>\n",
       "    <tr>\n",
       "      <th>11</th>\n",
       "      <td>Agave salmiana</td>\n",
       "      <td>3</td>\n",
       "      <td>1254</td>\n",
       "    </tr>\n",
       "    <tr>\n",
       "      <th>83</th>\n",
       "      <td>Agave striata</td>\n",
       "      <td>20</td>\n",
       "      <td>45</td>\n",
       "    </tr>\n",
       "    <tr>\n",
       "      <th>5</th>\n",
       "      <td>Opuntia engelmani</td>\n",
       "      <td>1</td>\n",
       "      <td>162</td>\n",
       "    </tr>\n",
       "    <tr>\n",
       "      <th>79</th>\n",
       "      <td>Yucca filifera</td>\n",
       "      <td>19</td>\n",
       "      <td>103</td>\n",
       "    </tr>\n",
       "  </tbody>\n",
       "</table>\n",
       "<p>130 rows × 3 columns</p>\n",
       "</div>"
      ],
      "text/plain": [
       "                      specie  polygon  demand\n",
       "4    Opuntia cantabrigiensis        1     210\n",
       "113            Agave striata       25     166\n",
       "102             Agave scabra       24     186\n",
       "40         Agave lechuguilla       16     186\n",
       "64   Opuntia cantabrigiensis       18     277\n",
       "..                       ...      ...     ...\n",
       "54   Opuntia cantabrigiensis       17     238\n",
       "11            Agave salmiana        3    1254\n",
       "83             Agave striata       20      45\n",
       "5          Opuntia engelmani        1     162\n",
       "79            Yucca filifera       19     103\n",
       "\n",
       "[130 rows x 3 columns]"
      ]
     },
     "execution_count": 11,
     "metadata": {},
     "output_type": "execute_result"
    }
   ],
   "source": [
    "demand_df"
   ]
  },
  {
   "cell_type": "code",
   "execution_count": 12,
   "id": "4bbe3f78",
   "metadata": {},
   "outputs": [
    {
     "name": "stderr",
     "output_type": "stream",
     "text": [
      "Finding solutions...: 100%|██████████| 10000/10000 [07:13<00:00, 23.05it/s]\n"
     ]
    }
   ],
   "source": [
    "optimizer = MonteCarloSupplyChainOptimizer(demand_df, prices_df, iterations=10_000)\n",
    "best_solution, best_cost = optimizer.run()"
   ]
  },
  {
   "cell_type": "code",
   "execution_count": 15,
   "id": "cb5ffb67",
   "metadata": {},
   "outputs": [
    {
     "data": {
      "text/plain": [
       "996455.0"
      ]
     },
     "execution_count": 15,
     "metadata": {},
     "output_type": "execute_result"
    }
   ],
   "source": [
    "best_cost"
   ]
  },
  {
   "cell_type": "code",
   "execution_count": 13,
   "id": "f88b66bb",
   "metadata": {},
   "outputs": [],
   "source": [
    "temp = pd.DataFrame(best_solution, columns = ['Day', 'Polygon', 'Specie', 'Supplier', 'Amount'])\n",
    "\n",
    "orders = temp.groupby(['Day', 'Supplier', 'Specie']).agg({'Amount' : 'sum'}).reset_index()\n",
    "vrp_nodes = temp.groupby('Day').agg({'Amount' : 'unique'}).reset_index()\n",
    "\n",
    "orders_list = orders.to_dict(orient='records')\n",
    "with open('../scheduling/MC_orders.json', 'w') as f:\n",
    "    json.dump(orders_list, f, indent=2)"
   ]
  },
  {
   "cell_type": "code",
   "execution_count": 14,
   "id": "9a5099c5",
   "metadata": {},
   "outputs": [
    {
     "name": "stdout",
     "output_type": "stream",
     "text": [
      "Solution saved.\n"
     ]
    }
   ],
   "source": [
    "filepath = '../scheduling/MC_Supply_Chain_Solution.json'\n",
    "\n",
    "# Convert numpy.float64 to float for JSON serialization\n",
    "save_data = {\n",
    "    'best_solution': best_solution,\n",
    "    'best_cost': float(best_cost),\n",
    "    'datetime': datetime.now().isoformat()\n",
    "}\n",
    "\n",
    "if not os.path.exists(filepath):\n",
    "    with open(filepath, 'w') as f:\n",
    "        json.dump(save_data, f, indent=2)\n",
    "    print(\"Solution saved.\")\n",
    "else:\n",
    "    with open(filepath, 'r') as f:\n",
    "        existing_data = json.load(f)\n",
    "    if float(best_cost) < float(existing_data['best_cost']):\n",
    "        with open(filepath, 'w') as f:\n",
    "            json.dump(save_data, f, indent=2)\n",
    "        print(\"New best solution saved.\")\n",
    "    else:\n",
    "        print(\"Existing solution is better or equal. No changes made.\")"
   ]
  }
 ],
 "metadata": {
  "kernelspec": {
   "display_name": "DS",
   "language": "python",
   "name": "python3"
  },
  "language_info": {
   "codemirror_mode": {
    "name": "ipython",
    "version": 3
   },
   "file_extension": ".py",
   "mimetype": "text/x-python",
   "name": "python",
   "nbconvert_exporter": "python",
   "pygments_lexer": "ipython3",
   "version": "3.12.8"
  }
 },
 "nbformat": 4,
 "nbformat_minor": 5
}
