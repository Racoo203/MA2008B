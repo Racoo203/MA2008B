{
 "cells": [
  {
   "cell_type": "code",
   "execution_count": 3,
   "id": "e1c24d56",
   "metadata": {},
   "outputs": [
    {
     "name": "stdout",
     "output_type": "stream",
     "text": [
      "\n",
      "[FASE 1] Plan de compras generado:\n",
      "Especie 1 del proveedor 0 el día 0: 80 unidades\n",
      "Especie 2 del proveedor 1 el día 0: 60 unidades\n"
     ]
    }
   ],
   "source": [
    "from agents.VRP_Agent import VRP_Agent\n",
    "from agents.Supply_Chain_Agent import Supply_Chain_Agent\n",
    "import numpy as np\n",
    "\n",
    "# ------------------- Datos ficticios -------------------\n",
    "species = [1, 2]\n",
    "providers = [0, 1]\n",
    "planning_days = list(range(10))\n",
    "truck_capacity = 100\n",
    "warehouse_capacity = 500\n",
    "species_area = {1: 1, 2: 2}\n",
    "purchase_cost = {1: {0: 10, 1: 12}, 2: {0: 15, 1: 14}}\n",
    "available_species = {\n",
    "    1: {0: 1, 1: 1},\n",
    "    2: {0: 0, 1: 1}\n",
    "}\n",
    "\n",
    "# Demanda de especies en zonas\n",
    "# Suponemos que especie 1 se requiere en zona 1, especie 2 en zona 2\n",
    "demand = {\n",
    "    (1, 1): 80,\n",
    "    (2, 2): 60\n",
    "}\n",
    "\n",
    "# ------------------- Fase 1: Agente de cadena de suministro -------------------\n",
    "supply_agent = Supply_Chain_Agent(\n",
    "    species=species,\n",
    "    providers=providers,\n",
    "    planning_days=planning_days,\n",
    "    truck_capacity=truck_capacity,\n",
    "    warehouse_capacity=warehouse_capacity,\n",
    "    species_area=species_area,\n",
    "    purchase_cost=purchase_cost,\n",
    "    available_species=available_species\n",
    ")\n",
    "\n",
    "supply_agent.greedy_schedule(demand)\n",
    "inventory = supply_agent.get_inventory()\n",
    "purchase_plan = supply_agent.get_purchase_plan()\n",
    "\n",
    "print(\"\\n[FASE 1] Plan de compras generado:\")\n",
    "for entry in purchase_plan:\n",
    "    print(f\"Especie {entry[0]} del proveedor {entry[1]} el día {entry[2]}: {entry[3]} unidades\")\n",
    "\n",
    "# # ------------------- Fase 2: Agente ACO para ruteo -------------------\n",
    "# nodes = [0, 1, 2]  # 0 es nodo receptor, 1 y 2 son zonas de siembra\n",
    "# distances = np.array([\n",
    "#     [0, 10, 15],\n",
    "#     [10, 0, 20],\n",
    "#     [15, 20, 0]\n",
    "# ])\n",
    "\n",
    "# # Suponemos que para el VRP, las demandas están agregadas por nodo\n",
    "# vrp_demands = {\n",
    "#     1: 80,  # zona 1\n",
    "#     2: 60   # zona 2\n",
    "# }\n",
    "\n",
    "# vrp_agent = VRP_Agent(\n",
    "#     nodes=nodes,\n",
    "#     distances=distances,\n",
    "#     demands=vrp_demands,\n",
    "#     capacity=truck_capacity,\n",
    "#     n_ants=5,\n",
    "#     n_iter=10\n",
    "# )\n",
    "\n",
    "# routes, cost = vrp_agent.run()\n",
    "\n",
    "# print(\"\\n[FASE 2] Rutas óptimas encontradas:\")\n",
    "# for i, route in enumerate(routes):\n",
    "#     print(f\"Ruta {i+1}: {route}\")\n",
    "# print(f\"Costo total estimado: {cost:.2f}\")\n"
   ]
  },
  {
   "cell_type": "code",
   "execution_count": null,
   "id": "b56f5282",
   "metadata": {},
   "outputs": [],
   "source": []
  }
 ],
 "metadata": {
  "kernelspec": {
   "display_name": "DS",
   "language": "python",
   "name": "python3"
  },
  "language_info": {
   "codemirror_mode": {
    "name": "ipython",
    "version": 3
   },
   "file_extension": ".py",
   "mimetype": "text/x-python",
   "name": "python",
   "nbconvert_exporter": "python",
   "pygments_lexer": "ipython3",
   "version": "3.12.8"
  }
 },
 "nbformat": 4,
 "nbformat_minor": 5
}
